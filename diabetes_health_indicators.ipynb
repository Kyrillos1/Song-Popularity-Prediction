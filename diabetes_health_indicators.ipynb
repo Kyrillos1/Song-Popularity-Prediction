{
  "cells": [
    {
      "cell_type": "markdown",
      "metadata": {
        "id": "view-in-github",
        "colab_type": "text"
      },
      "source": [
        "<a href=\"https://colab.research.google.com/github/Kyrillos1/Song-Popularity-Prediction/blob/main/diabetes_health_indicators.ipynb\" target=\"_parent\"><img src=\"https://colab.research.google.com/assets/colab-badge.svg\" alt=\"Open In Colab\"/></a>"
      ]
    },
    {
      "cell_type": "code",
      "execution_count": null,
      "metadata": {
        "id": "xeinIx6CofJK"
      },
      "outputs": [],
      "source": [
        "import numpy as np \n",
        "import pandas as pd \n",
        "import matplotlib.pyplot as plt \n",
        "import seaborn as sns \n",
        "from math import sqrt\n",
        "\n",
        "plt.style.use('seaborn-darkgrid')\n",
        "\n",
        "from sklearn.preprocessing import StandardScaler\n",
        "from sklearn.model_selection import train_test_split\n",
        "from sklearn.tree import DecisionTreeClassifier\n",
        "from sklearn.linear_model import LogisticRegression\n",
        "from sklearn.svm import LinearSVC,SVC\n",
        "from sklearn.metrics import accuracy_score, confusion_matrix, classification_report,mean_squared_error"
      ]
    },
    {
      "cell_type": "code",
      "execution_count": null,
      "metadata": {
        "colab": {
          "base_uri": "https://localhost:8080/"
        },
        "id": "eoM3xQd-onbK",
        "outputId": "7792bc88-5324-4f25-ed63-b68b023043ff"
      },
      "outputs": [
        {
          "output_type": "stream",
          "name": "stdout",
          "text": [
            "Data has 253680 Rows and 22 Features\n",
            "   Diabetes_binary  HighBP  HighChol  CholCheck   BMI  Smoker  Stroke  \\\n",
            "0              0.0     1.0       1.0        1.0  40.0     1.0     0.0   \n",
            "1              0.0     0.0       0.0        0.0  25.0     1.0     0.0   \n",
            "2              0.0     1.0       1.0        1.0  28.0     0.0     0.0   \n",
            "3              0.0     1.0       0.0        1.0  27.0     0.0     0.0   \n",
            "4              0.0     1.0       1.0        1.0  24.0     0.0     0.0   \n",
            "\n",
            "   HeartDiseaseorAttack  PhysActivity  Fruits  ...  AnyHealthcare  \\\n",
            "0                   0.0           0.0     0.0  ...            1.0   \n",
            "1                   0.0           1.0     0.0  ...            0.0   \n",
            "2                   0.0           0.0     1.0  ...            1.0   \n",
            "3                   0.0           1.0     1.0  ...            1.0   \n",
            "4                   0.0           1.0     1.0  ...            1.0   \n",
            "\n",
            "   NoDocbcCost  GenHlth  MentHlth  PhysHlth  DiffWalk  Sex   Age  Education  \\\n",
            "0          0.0      5.0      18.0      15.0       1.0  0.0   9.0        4.0   \n",
            "1          1.0      3.0       0.0       0.0       0.0  0.0   7.0        6.0   \n",
            "2          1.0      5.0      30.0      30.0       1.0  0.0   9.0        4.0   \n",
            "3          0.0      2.0       0.0       0.0       0.0  0.0  11.0        3.0   \n",
            "4          0.0      2.0       3.0       0.0       0.0  0.0  11.0        5.0   \n",
            "\n",
            "   Income  \n",
            "0     3.0  \n",
            "1     1.0  \n",
            "2     8.0  \n",
            "3     6.0  \n",
            "4     4.0  \n",
            "\n",
            "[5 rows x 22 columns]\n"
          ]
        }
      ],
      "source": [
        "df = pd.read_csv('diabetes_binary_health_indicators_BRFSS2015.csv')\n",
        "print(f\"Data has {df.shape[0]} Rows and {df.shape[1]} Features\")\n",
        "print(df.head())"
      ]
    },
    {
      "cell_type": "code",
      "execution_count": null,
      "metadata": {
        "colab": {
          "base_uri": "https://localhost:8080/"
        },
        "id": "kfpdgLVnpYey",
        "outputId": "4a956448-88a7-4ac9-c9e1-48e01c262d0a"
      },
      "outputs": [
        {
          "output_type": "stream",
          "name": "stdout",
          "text": [
            "<class 'pandas.core.frame.DataFrame'>\n",
            "RangeIndex: 253680 entries, 0 to 253679\n",
            "Data columns (total 22 columns):\n",
            " #   Column                Non-Null Count   Dtype  \n",
            "---  ------                --------------   -----  \n",
            " 0   Diabetes_binary       253680 non-null  float64\n",
            " 1   HighBP                253680 non-null  float64\n",
            " 2   HighChol              253680 non-null  float64\n",
            " 3   CholCheck             253680 non-null  float64\n",
            " 4   BMI                   253680 non-null  float64\n",
            " 5   Smoker                253680 non-null  float64\n",
            " 6   Stroke                253680 non-null  float64\n",
            " 7   HeartDiseaseorAttack  253680 non-null  float64\n",
            " 8   PhysActivity          253680 non-null  float64\n",
            " 9   Fruits                253680 non-null  float64\n",
            " 10  Veggies               253680 non-null  float64\n",
            " 11  HvyAlcoholConsump     253680 non-null  float64\n",
            " 12  AnyHealthcare         253680 non-null  float64\n",
            " 13  NoDocbcCost           253680 non-null  float64\n",
            " 14  GenHlth               253680 non-null  float64\n",
            " 15  MentHlth              253680 non-null  float64\n",
            " 16  PhysHlth              253680 non-null  float64\n",
            " 17  DiffWalk              253680 non-null  float64\n",
            " 18  Sex                   253680 non-null  float64\n",
            " 19  Age                   253680 non-null  float64\n",
            " 20  Education             253680 non-null  float64\n",
            " 21  Income                253680 non-null  float64\n",
            "dtypes: float64(22)\n",
            "memory usage: 42.6 MB\n",
            "None\n"
          ]
        }
      ],
      "source": [
        "print(df.info())"
      ]
    },
    {
      "cell_type": "code",
      "source": [
        "print(df.columns)"
      ],
      "metadata": {
        "colab": {
          "base_uri": "https://localhost:8080/"
        },
        "id": "xJJnhWNPtVYm",
        "outputId": "93b620df-a49c-4beb-cd9f-e78b90b1cbbb"
      },
      "execution_count": null,
      "outputs": [
        {
          "output_type": "stream",
          "name": "stdout",
          "text": [
            "Index(['Diabetes_binary', 'HighBP', 'HighChol', 'CholCheck', 'BMI', 'Smoker',\n",
            "       'Stroke', 'HeartDiseaseorAttack', 'PhysActivity', 'Fruits', 'Veggies',\n",
            "       'HvyAlcoholConsump', 'AnyHealthcare', 'NoDocbcCost', 'GenHlth',\n",
            "       'MentHlth', 'PhysHlth', 'DiffWalk', 'Sex', 'Age', 'Education',\n",
            "       'Income'],\n",
            "      dtype='object')\n"
          ]
        }
      ]
    },
    {
      "cell_type": "code",
      "execution_count": null,
      "metadata": {
        "colab": {
          "base_uri": "https://localhost:8080/"
        },
        "id": "512mQNS4pYmJ",
        "outputId": "74e5371d-847e-4c34-82a5-672980af963a"
      },
      "outputs": [
        {
          "output_type": "stream",
          "name": "stdout",
          "text": [
            "       Diabetes_binary         HighBP       HighChol      CholCheck  \\\n",
            "count    253680.000000  253680.000000  253680.000000  253680.000000   \n",
            "mean          0.139333       0.429001       0.424121       0.962670   \n",
            "std           0.346294       0.494934       0.494210       0.189571   \n",
            "min           0.000000       0.000000       0.000000       0.000000   \n",
            "25%           0.000000       0.000000       0.000000       1.000000   \n",
            "50%           0.000000       0.000000       0.000000       1.000000   \n",
            "75%           0.000000       1.000000       1.000000       1.000000   \n",
            "max           1.000000       1.000000       1.000000       1.000000   \n",
            "\n",
            "                 BMI         Smoker         Stroke  HeartDiseaseorAttack  \\\n",
            "count  253680.000000  253680.000000  253680.000000         253680.000000   \n",
            "mean       28.382364       0.443169       0.040571              0.094186   \n",
            "std         6.608694       0.496761       0.197294              0.292087   \n",
            "min        12.000000       0.000000       0.000000              0.000000   \n",
            "25%        24.000000       0.000000       0.000000              0.000000   \n",
            "50%        27.000000       0.000000       0.000000              0.000000   \n",
            "75%        31.000000       1.000000       0.000000              0.000000   \n",
            "max        98.000000       1.000000       1.000000              1.000000   \n",
            "\n",
            "        PhysActivity         Fruits  ...  AnyHealthcare    NoDocbcCost  \\\n",
            "count  253680.000000  253680.000000  ...  253680.000000  253680.000000   \n",
            "mean        0.756544       0.634256  ...       0.951053       0.084177   \n",
            "std         0.429169       0.481639  ...       0.215759       0.277654   \n",
            "min         0.000000       0.000000  ...       0.000000       0.000000   \n",
            "25%         1.000000       0.000000  ...       1.000000       0.000000   \n",
            "50%         1.000000       1.000000  ...       1.000000       0.000000   \n",
            "75%         1.000000       1.000000  ...       1.000000       0.000000   \n",
            "max         1.000000       1.000000  ...       1.000000       1.000000   \n",
            "\n",
            "             GenHlth       MentHlth       PhysHlth       DiffWalk  \\\n",
            "count  253680.000000  253680.000000  253680.000000  253680.000000   \n",
            "mean        2.511392       3.184772       4.242081       0.168224   \n",
            "std         1.068477       7.412847       8.717951       0.374066   \n",
            "min         1.000000       0.000000       0.000000       0.000000   \n",
            "25%         2.000000       0.000000       0.000000       0.000000   \n",
            "50%         2.000000       0.000000       0.000000       0.000000   \n",
            "75%         3.000000       2.000000       3.000000       0.000000   \n",
            "max         5.000000      30.000000      30.000000       1.000000   \n",
            "\n",
            "                 Sex            Age      Education         Income  \n",
            "count  253680.000000  253680.000000  253680.000000  253680.000000  \n",
            "mean        0.440342       8.032119       5.050434       6.053875  \n",
            "std         0.496429       3.054220       0.985774       2.071148  \n",
            "min         0.000000       1.000000       1.000000       1.000000  \n",
            "25%         0.000000       6.000000       4.000000       5.000000  \n",
            "50%         0.000000       8.000000       5.000000       7.000000  \n",
            "75%         1.000000      10.000000       6.000000       8.000000  \n",
            "max         1.000000      13.000000       6.000000       8.000000  \n",
            "\n",
            "[8 rows x 22 columns]\n"
          ]
        }
      ],
      "source": [
        "print(df.describe())"
      ]
    },
    {
      "cell_type": "code",
      "execution_count": null,
      "metadata": {
        "colab": {
          "base_uri": "https://localhost:8080/"
        },
        "id": "2BxuXx7k1URO",
        "outputId": "4c52c7e8-dd82-48dd-aec7-ba446eb38502"
      },
      "outputs": [
        {
          "output_type": "stream",
          "name": "stdout",
          "text": [
            "Diabetes_binary         0\n",
            "HighBP                  0\n",
            "HighChol                0\n",
            "CholCheck               0\n",
            "BMI                     0\n",
            "Smoker                  0\n",
            "Stroke                  0\n",
            "HeartDiseaseorAttack    0\n",
            "PhysActivity            0\n",
            "Fruits                  0\n",
            "Veggies                 0\n",
            "HvyAlcoholConsump       0\n",
            "AnyHealthcare           0\n",
            "NoDocbcCost             0\n",
            "GenHlth                 0\n",
            "MentHlth                0\n",
            "PhysHlth                0\n",
            "DiffWalk                0\n",
            "Sex                     0\n",
            "Age                     0\n",
            "Education               0\n",
            "Income                  0\n",
            "dtype: int64\n"
          ]
        }
      ],
      "source": [
        "print(df.isna().sum())"
      ]
    },
    {
      "cell_type": "code",
      "execution_count": null,
      "metadata": {
        "colab": {
          "base_uri": "https://localhost:8080/"
        },
        "id": "6vil8dGe_kiP",
        "outputId": "ef54d8b8-fb6d-4c22-d2c5-2bce61330cfb"
      },
      "outputs": [
        {
          "output_type": "stream",
          "name": "stdout",
          "text": [
            "Duplicate Rows :  24206\n",
            "0.0    98.971329\n",
            "1.0     1.028671\n",
            "Name: Diabetes_binary, dtype: float64\n"
          ]
        }
      ],
      "source": [
        "duplicate = df[df.duplicated()]\n",
        "print(\"Duplicate Rows : \",len(duplicate))\n",
        "print(duplicate['Diabetes_binary'].value_counts(normalize=True)*100)"
      ]
    },
    {
      "cell_type": "code",
      "execution_count": null,
      "metadata": {
        "id": "OXB8KPajpYih"
      },
      "outputs": [],
      "source": [
        "df = df.drop_duplicates(subset=None, keep=\"first\", inplace=False)"
      ]
    },
    {
      "cell_type": "code",
      "execution_count": null,
      "metadata": {
        "colab": {
          "base_uri": "https://localhost:8080/"
        },
        "id": "qAIPYzgiZwtC",
        "outputId": "a8a6ce5d-b86a-4388-8901-7b537ef85ef5"
      },
      "outputs": [
        {
          "output_type": "stream",
          "name": "stdout",
          "text": [
            "<class 'pandas.core.frame.DataFrame'>\n",
            "Int64Index: 229474 entries, 0 to 253679\n",
            "Data columns (total 22 columns):\n",
            " #   Column                Non-Null Count   Dtype  \n",
            "---  ------                --------------   -----  \n",
            " 0   Diabetes_binary       229474 non-null  float64\n",
            " 1   HighBP                229474 non-null  float64\n",
            " 2   HighChol              229474 non-null  float64\n",
            " 3   CholCheck             229474 non-null  float64\n",
            " 4   BMI                   229474 non-null  float64\n",
            " 5   Smoker                229474 non-null  float64\n",
            " 6   Stroke                229474 non-null  float64\n",
            " 7   HeartDiseaseorAttack  229474 non-null  float64\n",
            " 8   PhysActivity          229474 non-null  float64\n",
            " 9   Fruits                229474 non-null  float64\n",
            " 10  Veggies               229474 non-null  float64\n",
            " 11  HvyAlcoholConsump     229474 non-null  float64\n",
            " 12  AnyHealthcare         229474 non-null  float64\n",
            " 13  NoDocbcCost           229474 non-null  float64\n",
            " 14  GenHlth               229474 non-null  float64\n",
            " 15  MentHlth              229474 non-null  float64\n",
            " 16  PhysHlth              229474 non-null  float64\n",
            " 17  DiffWalk              229474 non-null  float64\n",
            " 18  Sex                   229474 non-null  float64\n",
            " 19  Age                   229474 non-null  float64\n",
            " 20  Education             229474 non-null  float64\n",
            " 21  Income                229474 non-null  float64\n",
            "dtypes: float64(22)\n",
            "memory usage: 40.3 MB\n"
          ]
        }
      ],
      "source": [
        "df.info()"
      ]
    },
    {
      "cell_type": "code",
      "execution_count": null,
      "metadata": {
        "id": "nlg3jLKCh0A5"
      },
      "outputs": [],
      "source": [
        "df = df.astype('int') #convert the data to int type because  Integer arithmetic is faster"
      ]
    },
    {
      "cell_type": "code",
      "execution_count": null,
      "metadata": {
        "id": "Xb8FXNixpYpC",
        "colab": {
          "base_uri": "https://localhost:8080/"
        },
        "outputId": "3bb24734-c20c-4c1e-f4f9-c6258873dbe5"
      },
      "outputs": [
        {
          "output_type": "stream",
          "name": "stdout",
          "text": [
            "0    84.705457\n",
            "1    15.294543\n",
            "Name: Diabetes_binary, dtype: float64\n"
          ]
        }
      ],
      "source": [
        "print(df['Diabetes_binary'].value_counts(normalize=True)*100)"
      ]
    },
    {
      "cell_type": "code",
      "execution_count": null,
      "metadata": {
        "id": "moKmBqeqpYrl",
        "colab": {
          "base_uri": "https://localhost:8080/",
          "height": 294
        },
        "outputId": "019e02fd-6fb3-40d8-eef4-7a1eeceb0133"
      },
      "outputs": [
        {
          "output_type": "execute_result",
          "data": {
            "text/plain": [
              "<matplotlib.axes._subplots.AxesSubplot at 0x7f0e44d1f250>"
            ]
          },
          "metadata": {},
          "execution_count": 12
        },
        {
          "output_type": "display_data",
          "data": {
            "text/plain": [
              "<Figure size 432x288 with 1 Axes>"
            ],
            "image/png": "[encoded data removed]"
          },
          "metadata": {
            "needs_background": "light"
          }
        }
      ],
      "source": [
        "sns.countplot(x='Diabetes_binary',data=df)"
      ]
    },
    {
      "cell_type": "markdown",
      "metadata": {
        "id": "2LW04KDjxvqR"
      },
      "source": [
        "Unbal"
      ]
    },
    {
      "cell_type": "code",
      "execution_count": null,
      "metadata": {
        "id": "Vmu4z_w_rWoD",
        "colab": {
          "base_uri": "https://localhost:8080/",
          "height": 473
        },
        "outputId": "ffb00c11-3f72-473b-8412-ac51e8651829"
      },
      "outputs": [
        {
          "output_type": "display_data",
          "data": {
            "text/plain": [
              "<Figure size 720x432 with 2 Axes>"
            ],
            "image/png": "[encoded data removed]"
          },
          "metadata": {
            "needs_background": "light"
          }
        }
      ],
      "source": [
        "#heatmap correlation\n",
        "plt.figure(figsize = (10,6))\n",
        "sns.heatmap(df.corr(), vmax = 0.9, square = True)\n",
        "plt.title(\"Correlations\")\n",
        "plt.show()"
      ]
    },
    {
      "cell_type": "code",
      "execution_count": null,
      "metadata": {
        "id": "8932CtEfrAq9"
      },
      "outputs": [],
      "source": [
        "correlation = df.corr()\n",
        "updatedData = pd.DataFrame();\n",
        "cnt = 0;\n",
        "for i in range (len(correlation['Diabetes_binary'])):\n",
        "    if abs(correlation['Diabetes_binary'][i]) >= 0.05:\n",
        "        myColumn = df[df.columns[i] ]\n",
        "        updatedData.insert(cnt,df.columns[i],myColumn)\n",
        "        cnt = cnt+1"
      ]
    },
    {
      "cell_type": "code",
      "execution_count": null,
      "metadata": {
        "id": "vyNljQxkmGoS"
      },
      "outputs": [],
      "source": [
        "X = updatedData.drop(['Diabetes_binary'],axis=1)\n",
        "y = updatedData['Diabetes_binary']"
      ]
    },
    {
      "cell_type": "code",
      "execution_count": null,
      "metadata": {
        "id": "NFJ_iyHi4CS1",
        "colab": {
          "base_uri": "https://localhost:8080/"
        },
        "outputId": "d0b195c3-8939-4a83-b00c-b289cd6c20d4"
      },
      "outputs": [
        {
          "output_type": "stream",
          "name": "stdout",
          "text": [
            "0    194377\n",
            "1    194377\n",
            "Name: Diabetes_binary, dtype: int64\n"
          ]
        }
      ],
      "source": [
        "from imblearn.over_sampling import SMOTE\n",
        "oversample = SMOTE()\n",
        "X, y = oversample.fit_resample(X, y)\n",
        "\n",
        "print(y.value_counts())"
      ]
    },
    {
      "cell_type": "code",
      "execution_count": null,
      "metadata": {
        "id": "CMkMT929mZ6K",
        "colab": {
          "base_uri": "https://localhost:8080/"
        },
        "outputId": "cd2f720f-22f5-4be8-ec67-03256e7e0dcc"
      },
      "outputs": [
        {
          "output_type": "stream",
          "name": "stdout",
          "text": [
            "(311003, 15)\n",
            "(311003,)\n",
            "(77751, 15)\n",
            "(77751,)\n"
          ]
        }
      ],
      "source": [
        "# Splitting data into training and test set:\n",
        "X_train, X_test, y_train, y_test = train_test_split(X, y, test_size=0.2, random_state=42)\n",
        "print(X_train.shape)\n",
        "print(y_train.shape)\n",
        "print(X_test.shape)\n",
        "print(y_test.shape)"
      ]
    },
    {
      "cell_type": "code",
      "execution_count": null,
      "metadata": {
        "id": "ssQyAHiNmbfJ"
      },
      "outputs": [],
      "source": [
        "# Creating StandardScaler instance\n",
        "sc = StandardScaler()\n",
        "# Fitting Standard Scaller\n",
        "X_train = sc.fit_transform(X_train)\n",
        "# Scaling data\n",
        "X_test = sc.transform(X_test)"
      ]
    },
    {
      "cell_type": "code",
      "source": [
        "from sklearn.model_selection import GridSearchCV\n",
        "\n",
        "grid_models = [(LogisticRegression(),[{'C':[0.25,0.5,0.75,1,10,100,1000],'random_state':[0]}]), \n",
        "               (DecisionTreeClassifier(),[{'criterion':['gini','entropy'],'max_depth':[4,5,6,7,8,9,10,11,12,15,20,30,40,50,70,90,120,150]'random_state':[0]}])\n",
        "              #  ,(SVC(),[{'C': [0.1, 1, 10, 100, 1000],'gamma': [0.25,0.5,0.75,1,10,100],'kernel': ['rbf']}])\n",
        "                ]\n",
        "\n",
        "for i,j in grid_models:\n",
        "    grid = GridSearchCV(estimator=i,param_grid = j, scoring = 'accuracy',cv=2)\n",
        "    grid.fit(X_train, y_train)\n",
        "    best_accuracy = grid.best_score_\n",
        "    best_param = grid.best_params_\n",
        "    print('{}:\\nBest Accuracy : {:.2f}%'.format(i,best_accuracy*100))\n",
        "    print('Best Parameters : ',best_param)\n",
        "    print('')\n",
        "    print('----------------')\n",
        "    print('')"
      ],
      "metadata": {
        "id": "w5aEqcim8p2e"
      },
      "execution_count": null,
      "outputs": []
    },
    {
      "cell_type": "code",
      "execution_count": null,
      "metadata": {
        "id": "1W4McIUfv2hY"
      },
      "outputs": [],
      "source": [
        "def main(classifier,cls_name):\n",
        "  y_train_pred = classifier.predict(X_train)\n",
        "  y_test_pred = classifier.predict(X_test)\n",
        "\n",
        "  #Training Data Set\n",
        "  print(cls_name+\"\\n-----------TRAINING DATA-----------\")\n",
        "  AccScore = accuracy_score(y_train, y_train_pred)\n",
        "  print(\"Accuracy Score: \",AccScore*100)\n",
        "  print(classification_report(y_train, y_train_pred)) \n",
        "\n",
        "    #check MSE & RMSE \n",
        "  mse = mean_squared_error(y_train, y_train_pred)\n",
        "  print('Mean Squared Error : '+ str(mse))\n",
        "  rmse = sqrt(mean_squared_error(y_train, y_train_pred))\n",
        "  print('Root Mean Squared Error : '+ str(rmse))\n",
        "\n",
        "  CM = confusion_matrix(y_train, y_train_pred)\n",
        "  print('Confusion Matrix is : \\n', CM)\n",
        "  # drawing confusion matrix\n",
        "  plt.figure(figsize = (8,6))\n",
        "  sns.heatmap(CM, center = True, fmt = \".0f\", cmap = 'viridis')\n",
        "  plt.show()\n",
        "\n",
        "\n",
        "  print(\"\\n-----------TESTING DATA-----------\")\n",
        "  #Testing Data Set\n",
        "  AccScore = accuracy_score(y_test, y_test_pred)\n",
        "  print(\"Accuracy Score: \",AccScore*100)\n",
        "  print(classification_report(y_test, y_test_pred)) \n",
        "\n",
        "  #check MSE & RMSE \n",
        "  mse = mean_squared_error(y_test, y_test_pred)\n",
        "  print('Mean Squared Error : '+ str(mse))\n",
        "  rmse = sqrt(mean_squared_error(y_test, y_test_pred))\n",
        "  print('Root Mean Squared Error : '+ str(rmse))\n",
        "\n",
        "\n",
        "  CM = confusion_matrix(y_test, y_test_pred)\n",
        "  print('Confusion Matrix is : \\n', CM)\n",
        "  # drawing confusion matrix\n",
        "  plt.figure(figsize = (8,6))\n",
        "  sns.heatmap(CM, center = True, fmt = \".0f\", cmap = 'viridis')\n",
        "  plt.show()\n"
      ]
    },
    {
      "cell_type": "code",
      "execution_count": null,
      "metadata": {
        "id": "yKxojdevmnfJ",
        "colab": {
          "base_uri": "https://localhost:8080/",
          "height": 1000
        },
        "outputId": "3a94daed-d0d4-4a77-c4a0-499b67875bfb"
      },
      "outputs": [
        {
          "output_type": "stream",
          "name": "stdout",
          "text": [
            "Logistic Regression Model\n",
            "-----------TRAINING DATA-----------\n",
            "Accuracy Score:  71.76425950875071\n",
            "              precision    recall  f1-score   support\n",
            "\n",
            "           0       0.73      0.69      0.71    155447\n",
            "           1       0.71      0.74      0.72    155556\n",
            "\n",
            "    accuracy                           0.72    311003\n",
            "   macro avg       0.72      0.72      0.72    311003\n",
            "weighted avg       0.72      0.72      0.72    311003\n",
            "\n",
            "Mean Squared Error : 0.2823574049124928\n",
            "Root Mean Squared Error : 0.531373131530465\n",
            "Confusion Matrix is : \n",
            " [[107984  47463]\n",
            " [ 40351 115205]]\n"
          ]
        },
        {
          "output_type": "display_data",
          "data": {
            "text/plain": [
              "<Figure size 576x432 with 2 Axes>"
            ],
            "image/png": "[encoded data removed]"
          },
          "metadata": {
            "needs_background": "light"
          }
        },
        {
          "output_type": "stream",
          "name": "stdout",
          "text": [
            "\n",
            "-----------TESTING DATA-----------\n",
            "Accuracy Score:  71.8704582577716\n",
            "              precision    recall  f1-score   support\n",
            "\n",
            "           0       0.73      0.70      0.71     38930\n",
            "           1       0.71      0.74      0.72     38821\n",
            "\n",
            "    accuracy                           0.72     77751\n",
            "   macro avg       0.72      0.72      0.72     77751\n",
            "weighted avg       0.72      0.72      0.72     77751\n",
            "\n",
            "Mean Squared Error : 0.281295417422284\n",
            "Root Mean Squared Error : 0.5303729041177386\n",
            "Confusion Matrix is : \n",
            " [[27109 11821]\n",
            " [10050 28771]]\n"
          ]
        },
        {
          "output_type": "display_data",
          "data": {
            "text/plain": [
              "<Figure size 576x432 with 2 Axes>"
            ],
            "image/png": "[encoded data removed]"
          },
          "metadata": {
            "needs_background": "light"
          }
        }
      ],
      "source": [
        "#Fitting Logistic Regression Model\n",
        "logistic_regression_classifier = LogisticRegression(C= 0.5, random_state= 0)\n",
        "logistic_regression_classifier.fit(X_train, y_train)\n",
        "main(logistic_regression_classifier,'Logistic Regression Model')"
      ]
    },
    {
      "cell_type": "code",
      "execution_count": null,
      "metadata": {
        "id": "oADl3J7axuf7",
        "colab": {
          "base_uri": "https://localhost:8080/",
          "height": 1000
        },
        "outputId": "8425d261-bc73-4bd5-b274-a8bdf6985579"
      },
      "outputs": [
        {
          "output_type": "stream",
          "name": "stdout",
          "text": [
            "Decision Tree Model\n",
            "-----------TRAINING DATA-----------\n",
            "Accuracy Score:  96.34826673697681\n",
            "              precision    recall  f1-score   support\n",
            "\n",
            "           0       0.97      0.96      0.96    155447\n",
            "           1       0.96      0.97      0.96    155556\n",
            "\n",
            "    accuracy                           0.96    311003\n",
            "   macro avg       0.96      0.96      0.96    311003\n",
            "weighted avg       0.96      0.96      0.96    311003\n",
            "\n",
            "Mean Squared Error : 0.03651733263023186\n",
            "Root Mean Squared Error : 0.19109508792805707\n",
            "Confusion Matrix is : \n",
            " [[148605   6842]\n",
            " [  4515 151041]]\n"
          ]
        },
        {
          "output_type": "display_data",
          "data": {
            "text/plain": [
              "<Figure size 576x432 with 2 Axes>"
            ],
            "image/png": "[encoded data removed]"
          },
          "metadata": {
            "needs_background": "light"
          }
        },
        {
          "output_type": "stream",
          "name": "stdout",
          "text": [
            "\n",
            "-----------TESTING DATA-----------\n",
            "Accuracy Score:  80.72564983087034\n",
            "              precision    recall  f1-score   support\n",
            "\n",
            "           0       0.84      0.76      0.80     38930\n",
            "           1       0.78      0.86      0.82     38821\n",
            "\n",
            "    accuracy                           0.81     77751\n",
            "   macro avg       0.81      0.81      0.81     77751\n",
            "weighted avg       0.81      0.81      0.81     77751\n",
            "\n",
            "Mean Squared Error : 0.1927435016912966\n",
            "Root Mean Squared Error : 0.43902562760196195\n",
            "Confusion Matrix is : \n",
            " [[29537  9393]\n",
            " [ 5593 33228]]\n"
          ]
        },
        {
          "output_type": "display_data",
          "data": {
            "text/plain": [
              "<Figure size 576x432 with 2 Axes>"
            ],
            "image/png": "[encoded data removed]"
          },
          "metadata": {
            "needs_background": "light"
          }
        },
        {
          "output_type": "stream",
          "name": "stdout",
          "text": [
            "\n",
            "-----------------------------------------------\n",
            "\n"
          ]
        },
        {
          "output_type": "execute_result",
          "data": {
            "text/plain": [
              "                 Feature  Importance (%)\n",
              "0                    BMI           17.84\n",
              "1                    Age           14.03\n",
              "2                GenHlth           11.58\n",
              "3                 Income           11.36\n",
              "4               PhysHlth           10.99\n",
              "5               MentHlth            8.48\n",
              "6              Education            7.64\n",
              "7                 HighBP            4.52\n",
              "8               HighChol            3.49\n",
              "9           PhysActivity            2.25\n",
              "10  HeartDiseaseorAttack            2.15\n",
              "11              DiffWalk            2.01\n",
              "12     HvyAlcoholConsump            1.91\n",
              "13             CholCheck            0.88\n",
              "14                Stroke            0.86"
            ],
            "text/html": [
              "\n",
              "  <div id=\"df-2c6d4011-ab95-4a57-9d4b-e5e484eab335\">\n",
              "    <div class=\"colab-df-container\">\n",
              "      <div>\n",
              "<style scoped>\n",
              "    .dataframe tbody tr th:only-of-type {\n",
              "        vertical-align: middle;\n",
              "    }\n",
              "\n",
              "    .dataframe tbody tr th {\n",
              "        vertical-align: top;\n",
              "    }\n",
              "\n",
              "    .dataframe thead th {\n",
              "        text-align: right;\n",
              "    }\n",
              "</style>\n",
              "<table border=\"1\" class=\"dataframe\">\n",
              "  <thead>\n",
              "    <tr style=\"text-align: right;\">\n",
              "      <th></th>\n",
              "      <th>Feature</th>\n",
              "      <th>Importance (%)</th>\n",
              "    </tr>\n",
              "  </thead>\n",
              "  <tbody>\n",
              "    <tr>\n",
              "      <th>0</th>\n",
              "      <td>BMI</td>\n",
              "      <td>17.84</td>\n",
              "    </tr>\n",
              "    <tr>\n",
              "      <th>1</th>\n",
              "      <td>Age</td>\n",
              "      <td>14.03</td>\n",
              "    </tr>\n",
              "    <tr>\n",
              "      <th>2</th>\n",
              "      <td>GenHlth</td>\n",
              "      <td>11.58</td>\n",
              "    </tr>\n",
              "    <tr>\n",
              "      <th>3</th>\n",
              "      <td>Income</td>\n",
              "      <td>11.36</td>\n",
              "    </tr>\n",
              "    <tr>\n",
              "      <th>4</th>\n",
              "      <td>PhysHlth</td>\n",
              "      <td>10.99</td>\n",
              "    </tr>\n",
              "    <tr>\n",
              "      <th>5</th>\n",
              "      <td>MentHlth</td>\n",
              "      <td>8.48</td>\n",
              "    </tr>\n",
              "    <tr>\n",
              "      <th>6</th>\n",
              "      <td>Education</td>\n",
              "      <td>7.64</td>\n",
              "    </tr>\n",
              "    <tr>\n",
              "      <th>7</th>\n",
              "      <td>HighBP</td>\n",
              "      <td>4.52</td>\n",
              "    </tr>\n",
              "    <tr>\n",
              "      <th>8</th>\n",
              "      <td>HighChol</td>\n",
              "      <td>3.49</td>\n",
              "    </tr>\n",
              "    <tr>\n",
              "      <th>9</th>\n",
              "      <td>PhysActivity</td>\n",
              "      <td>2.25</td>\n",
              "    </tr>\n",
              "    <tr>\n",
              "      <th>10</th>\n",
              "      <td>HeartDiseaseorAttack</td>\n",
              "      <td>2.15</td>\n",
              "    </tr>\n",
              "    <tr>\n",
              "      <th>11</th>\n",
              "      <td>DiffWalk</td>\n",
              "      <td>2.01</td>\n",
              "    </tr>\n",
              "    <tr>\n",
              "      <th>12</th>\n",
              "      <td>HvyAlcoholConsump</td>\n",
              "      <td>1.91</td>\n",
              "    </tr>\n",
              "    <tr>\n",
              "      <th>13</th>\n",
              "      <td>CholCheck</td>\n",
              "      <td>0.88</td>\n",
              "    </tr>\n",
              "    <tr>\n",
              "      <th>14</th>\n",
              "      <td>Stroke</td>\n",
              "      <td>0.86</td>\n",
              "    </tr>\n",
              "  </tbody>\n",
              "</table>\n",
              "</div>\n",
              "      <button class=\"colab-df-convert\" onclick=\"convertToInteractive('df-2c6d4011-ab95-4a57-9d4b-e5e484eab335')\"\n",
              "              title=\"Convert this dataframe to an interactive table.\"\n",
              "              style=\"display:none;\">\n",
              "        \n",
              "  <svg xmlns=\"http://www.w3.org/2000/svg\" height=\"24px\"viewBox=\"0 0 24 24\"\n",
              "       width=\"24px\">\n",
              "    <path d=\"M0 0h24v24H0V0z\" fill=\"none\"/>\n",
              "    <path d=\"M18.56 5.44l.94 2.06.94-2.06 2.06-.94-2.06-.94-.94-2.06-.94 2.06-2.06.94zm-11 1L8.5 8.5l.94-2.06 2.06-.94-2.06-.94L8.5 2.5l-.94 2.06-2.06.94zm10 10l.94 2.06.94-2.06 2.06-.94-2.06-.94-.94-2.06-.94 2.06-2.06.94z\"/><path d=\"M17.41 7.96l-1.37-1.37c-.4-.4-.92-.59-1.43-.59-.52 0-1.04.2-1.43.59L10.3 9.45l-7.72 7.72c-.78.78-.78 2.05 0 2.83L4 21.41c.39.39.9.59 1.41.59.51 0 1.02-.2 1.41-.59l7.78-7.78 2.81-2.81c.8-.78.8-2.07 0-2.86zM5.41 20L4 18.59l7.72-7.72 1.47 1.35L5.41 20z\"/>\n",
              "  </svg>\n",
              "      </button>\n",
              "      \n",
              "  <style>\n",
              "    .colab-df-container {\n",
              "      display:flex;\n",
              "      flex-wrap:wrap;\n",
              "      gap: 12px;\n",
              "    }\n",
              "\n",
              "    .colab-df-convert {\n",
              "      background-color: #E8F0FE;\n",
              "      border: none;\n",
              "      border-radius: 50%;\n",
              "      cursor: pointer;\n",
              "      display: none;\n",
              "      fill: #1967D2;\n",
              "      height: 32px;\n",
              "      padding: 0 0 0 0;\n",
              "      width: 32px;\n",
              "    }\n",
              "\n",
              "    .colab-df-convert:hover {\n",
              "      background-color: #E2EBFA;\n",
              "      box-shadow: 0px 1px 2px rgba(60, 64, 67, 0.3), 0px 1px 3px 1px rgba(60, 64, 67, 0.15);\n",
              "      fill: #174EA6;\n",
              "    }\n",
              "\n",
              "    [theme=dark] .colab-df-convert {\n",
              "      background-color: #3B4455;\n",
              "      fill: #D2E3FC;\n",
              "    }\n",
              "\n",
              "    [theme=dark] .colab-df-convert:hover {\n",
              "      background-color: #434B5C;\n",
              "      box-shadow: 0px 1px 3px 1px rgba(0, 0, 0, 0.15);\n",
              "      filter: drop-shadow(0px 1px 2px rgba(0, 0, 0, 0.3));\n",
              "      fill: #FFFFFF;\n",
              "    }\n",
              "  </style>\n",
              "\n",
              "      <script>\n",
              "        const buttonEl =\n",
              "          document.querySelector('#df-2c6d4011-ab95-4a57-9d4b-e5e484eab335 button.colab-df-convert');\n",
              "        buttonEl.style.display =\n",
              "          google.colab.kernel.accessAllowed ? 'block' : 'none';\n",
              "\n",
              "        async function convertToInteractive(key) {\n",
              "          const element = document.querySelector('#df-2c6d4011-ab95-4a57-9d4b-e5e484eab335');\n",
              "          const dataTable =\n",
              "            await google.colab.kernel.invokeFunction('convertToInteractive',\n",
              "                                                     [key], {});\n",
              "          if (!dataTable) return;\n",
              "\n",
              "          const docLinkHtml = 'Like what you see? Visit the ' +\n",
              "            '<a target=\"_blank\" href=https://colab.research.google.com/notebooks/data_table.ipynb>data table notebook</a>'\n",
              "            + ' to learn more about interactive tables.';\n",
              "          element.innerHTML = '';\n",
              "          dataTable['output_type'] = 'display_data';\n",
              "          await google.colab.output.renderOutput(dataTable, element);\n",
              "          const docLink = document.createElement('div');\n",
              "          docLink.innerHTML = docLinkHtml;\n",
              "          element.appendChild(docLink);\n",
              "        }\n",
              "      </script>\n",
              "    </div>\n",
              "  </div>\n",
              "  "
            ]
          },
          "metadata": {},
          "execution_count": 22
        }
      ],
      "source": [
        "decision_tree_classifier = DecisionTreeClassifier(criterion= 'entropy', random_state= 0)\n",
        "decision_tree_classifier = decision_tree_classifier.fit(X_train,y_train)\n",
        "main(decision_tree_classifier,'Decision Tree Model')\n",
        "print('\\n-----------------------------------------------\\n')\n",
        "\n",
        "fun=lambda row: np.round((row * 100),2)\n",
        "features = fun(decision_tree_classifier.feature_importances_)\n",
        "def Sort_Tuple(tup):\n",
        "    return(sorted(tup, key = lambda x: x[1],reverse=True)) \n",
        "pd.DataFrame(Sort_Tuple(list(zip(X.columns,features))),columns=['Feature', 'Importance (%)'])"
      ]
    },
    {
      "cell_type": "code",
      "execution_count": null,
      "metadata": {
        "id": "Qsjkf6HCxunR",
        "colab": {
          "base_uri": "https://localhost:8080/",
          "height": 1000
        },
        "outputId": "e91407b4-6e99-4174-951d-f3fec79db80e"
      },
      "outputs": [
        {
          "output_type": "stream",
          "name": "stderr",
          "text": [
            "/usr/local/lib/python3.7/dist-packages/sklearn/svm/_base.py:1208: ConvergenceWarning: Liblinear failed to converge, increase the number of iterations.\n",
            "  ConvergenceWarning,\n"
          ]
        },
        {
          "output_type": "stream",
          "name": "stdout",
          "text": [
            "SVC Model\n",
            "-----------TRAINING DATA-----------\n",
            "Accuracy Score:  71.86361546351642\n",
            "              precision    recall  f1-score   support\n",
            "\n",
            "           0       0.74      0.67      0.71    155447\n",
            "           1       0.70      0.76      0.73    155556\n",
            "\n",
            "    accuracy                           0.72    311003\n",
            "   macro avg       0.72      0.72      0.72    311003\n",
            "weighted avg       0.72      0.72      0.72    311003\n",
            "\n",
            "Mean Squared Error : 0.2813638453648357\n",
            "Root Mean Squared Error : 0.5304374094696147\n",
            "Confusion Matrix is : \n",
            " [[104687  50760]\n",
            " [ 36745 118811]]\n"
          ]
        },
        {
          "output_type": "display_data",
          "data": {
            "text/plain": [
              "<Figure size 576x432 with 2 Axes>"
            ],
            "image/png": "[encoded data removed]"
          },
          "metadata": {
            "needs_background": "light"
          }
        },
        {
          "output_type": "stream",
          "name": "stdout",
          "text": [
            "\n",
            "-----------TESTING DATA-----------\n",
            "Accuracy Score:  71.974636982161\n",
            "              precision    recall  f1-score   support\n",
            "\n",
            "           0       0.74      0.68      0.71     38930\n",
            "           1       0.70      0.76      0.73     38821\n",
            "\n",
            "    accuracy                           0.72     77751\n",
            "   macro avg       0.72      0.72      0.72     77751\n",
            "weighted avg       0.72      0.72      0.72     77751\n",
            "\n",
            "Mean Squared Error : 0.28025363017839\n",
            "Root Mean Squared Error : 0.5293898659573962\n",
            "Confusion Matrix is : \n",
            " [[26291 12639]\n",
            " [ 9151 29670]]\n"
          ]
        },
        {
          "output_type": "display_data",
          "data": {
            "text/plain": [
              "<Figure size 576x432 with 2 Axes>"
            ],
            "image/png": "[encoded data removed]"
          },
          "metadata": {
            "needs_background": "light"
          }
        }
      ],
      "source": [
        "from sklearn.svm import LinearSVC\n",
        "svc_classifier =LinearSVC( C=1,loss=\"hinge\",random_state= 0)\n",
        "svc_classifier.fit(X_train, y_train)\n",
        "main(svc_classifier,'SVC Model')"
      ]
    },
    {
      "cell_type": "markdown",
      "source": [
        "### Decision Tree Classifier model performs best fit for our dataset.\n",
        "with a accuracy Score = 80.89 and mean squared error = 0.19\n"
      ],
      "metadata": {
        "id": "sMBIhECJ5BzN"
      }
    },
    {
      "cell_type": "code",
      "execution_count": null,
      "metadata": {
        "id": "_TkL1DDoeKIp"
      },
      "outputs": [],
      "source": [
        "import joblib\n",
        "joblib.dump(decision_tree_classifier, \"my_model.pkl\")\n",
        "# and later...\n",
        "my_model_loaded = joblib.load(\"my_model.pkl\")"
      ]
    },
    {
      "cell_type": "code",
      "execution_count": null,
      "metadata": {
        "id": "l8weqQx91ydM"
      },
      "outputs": [],
      "source": [
        "# df = pd.read_csv('.csv')\n",
        "# df = df.astype('int') #convert the data to int type because  Integer arithmetic is faster\n",
        "\n",
        "# X = df.drop(['Diabetes_binary'],axis=1)\n",
        "# y = df['Diabetes_binary']\n",
        "# sc = StandardScaler()\n",
        "# data = sc.fit_transform(X)\n",
        "# X = sc.transform()"
      ]
    },
    {
      "cell_type": "code",
      "execution_count": null,
      "metadata": {
        "id": "GuZfl6pA4Bf9"
      },
      "outputs": [],
      "source": [
        "# y_pred=my_model_loaded.predict(X)\n",
        "\n",
        "# AccScore = accuracy_score(y, y_pred)\n",
        "# print(\"Accuracy Score: \",AccScore*100)\n",
        "# print(classification_report(y, y_pred)) \n",
        "\n",
        "# #check MSE & RMSE \n",
        "# mse = mean_squared_error(y, y_pred)\n",
        "# print('Mean Squared Error : '+ str(mse))\n",
        "# rmse = sqrt(mean_squared_error(y, y_pred))\n",
        "# print('Root Mean Squared Error : '+ str(rmse))\n",
        "\n",
        "\n",
        "# CM = confusion_matrix(y, y_pred)\n",
        "# print('Confusion Matrix is : \\n', CM)\n",
        "# # drawing confusion matrix\n",
        "# plt.figure(figsize = (8,6))\n",
        "# sns.heatmap(CM, center = True, fmt = \".0f\", cmap = 'viridis')\n",
        "# plt.show()"
      ]
    }
  ],
  "metadata": {
    "colab": {
      "collapsed_sections": [],
      "provenance": [],
      "authorship_tag": "ABX9TyN7c84+PUGLkGxneD3lOqOx",
      "include_colab_link": true
    },
    "kernelspec": {
      "display_name": "Python 3",
      "name": "python3"
    },
    "language_info": {
      "name": "python"
    }
  },
  "nbformat": 4,
  "nbformat_minor": 0
}